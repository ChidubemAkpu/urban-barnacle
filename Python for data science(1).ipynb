{
 "cells": [
  {
   "cell_type": "code",
   "execution_count": 17,
   "id": "925490eb",
   "metadata": {},
   "outputs": [
    {
     "name": "stdout",
     "output_type": "stream",
     "text": [
      "  1 1000.00 1050.00\n",
      "  2 1050.00 1102.50\n",
      "  3 1102.50 1157.62\n",
      "  4 1157.62 1215.51\n",
      "  5 1215.51 1276.28\n"
     ]
    }
   ],
   "source": [
    "#A program that calculates compound interests.\n",
    "\n",
    "principal = 1000\n",
    "numyear = 5\n",
    "rate = 0.05\n",
    "year = 1\n",
    "#interest = principal * rate\n",
    "\n",
    "while year <= numyear:\n",
    "    interest = principal * rate\n",
    "    amount = principal + interest\n",
    "    \n",
    "    print(f'{year:>3d} {principal:0.2f} {amount:0.2f}')\n",
    "    principal = amount\n",
    "    year += 1\n"
   ]
  },
  {
   "cell_type": "code",
   "execution_count": 8,
   "id": "e1fe3adb",
   "metadata": {},
   "outputs": [
    {
     "name": "stdout",
     "output_type": "stream",
     "text": [
      "The set for floor division: [0, 0, 1, 1, 2, 2, 3, 5]\n",
      "The set for modulus: [2, 4, 4, 1, 1, 0, 3, 2]\n"
     ]
    }
   ],
   "source": [
    "mod_num = []\n",
    "div_num = []\n",
    "list_of_div_mod = []\n",
    "list_of_elements = [(2,3),(4,5),(9,5),(4,3),(7,3),(2,1),(15,4),(17,3)]\n",
    "\n",
    "for i,j in list_of_elements:\n",
    "    list_of_div_mod.append(divmod(i,j))\n",
    "#print(list_of_div_mod)\n",
    "for i,j in list_of_div_mod:\n",
    "    mod_num.append(j)\n",
    "    div_num.append(i)\n",
    "print(f'The set for floor division: {div_num}')\n",
    "print(f'The set for modulus: {mod_num}')"
   ]
  },
  {
   "cell_type": "code",
   "execution_count": 13,
   "id": "066a2a5a",
   "metadata": {},
   "outputs": [
    {
     "data": {
      "text/plain": [
       "4"
      ]
     },
     "execution_count": 13,
     "metadata": {},
     "output_type": "execute_result"
    }
   ],
   "source": [
    "def double(x):\n",
    "    return x * 2\n",
    "def apply_to_one(f):\n",
    "    return f(1)\n",
    "my_double = double\n",
    "x = apply_to_one(my_double)\n",
    "double(x)\n"
   ]
  },
  {
   "cell_type": "code",
   "execution_count": 15,
   "id": "c5437dcb",
   "metadata": {},
   "outputs": [
    {
     "data": {
      "text/plain": [
       "(0, 2)"
      ]
     },
     "execution_count": 15,
     "metadata": {},
     "output_type": "execute_result"
    }
   ],
   "source": [
    "def divimod(a,b):\n",
    "    return (a//b,a%b)\n",
    "divimod(2,4)"
   ]
  },
  {
   "cell_type": "code",
   "execution_count": 9,
   "id": "48132cd6",
   "metadata": {},
   "outputs": [
    {
     "name": "stdout",
     "output_type": "stream",
     "text": [
      "0-0 division is mathematically impossible\n"
     ]
    }
   ],
   "source": [
    "try :\n",
    "    print(0/0)\n",
    "except:\n",
    "    print(\"0-0 division is mathematically impossible\")"
   ]
  },
  {
   "cell_type": "code",
   "execution_count": null,
   "id": "781b27ff",
   "metadata": {},
   "outputs": [],
   "source": [
    "#Creating lists \n",
    "integer_list = [1,2,4,30,56,7,89]\n",
    "heterogeneous_list = [\"Dubem\",22,2019,250]\n",
    "list_of_lists = [integer_list, heterogeneous_list,[]]\n",
    "print(list_of_lists)\n",
    "print(len(integer_list),len(heterogeneous_list),len(list_of_lists))\n",
    "for i in integer_list:\n",
    "    if i == 30:\n",
    "        print(sum(integer_list))\n",
    "        break\n",
    "else:\n",
    "        \n",
    "    print(\"There is no 30 here\")\n",
    "x = [(x ** 2) for x in range(10)]\n",
    "x[0] = -1\n",
    "x[2] = 45\n",
    "\n",
    "for x in x:\n",
    "    print(x,end = ' ')\n",
    "\n",
    "list_of_lists = integer_list + heterogeneous_list\n",
    "print(list_of_lists)"
   ]
  },
  {
   "cell_type": "code",
   "execution_count": null,
   "id": "a2024f31",
   "metadata": {},
   "outputs": [],
   "source": [
    "my_list = [1,2,3,4]\n",
    "print(1 in my_list)\n",
    "while 1<2:\n",
    "    pass\n",
    "    \n"
   ]
  },
  {
   "cell_type": "code",
   "execution_count": 3,
   "id": "b907d3cd",
   "metadata": {},
   "outputs": [
    {
     "name": "stdout",
     "output_type": "stream",
     "text": [
      "(3, 4, 5, 6)\n",
      "Ah! You cannot modify a tuple bro\n"
     ]
    }
   ],
   "source": [
    "my_tuple = (1,2,3,4,5,6,7)\n",
    "other_tuple = 3,4,5,6\n",
    "print(other_tuple)\n",
    "try:\n",
    "    my_tuple[3] = 5\n",
    "except:\n",
    "    print('Ah! You cannot modify a tuple bro')\n",
    "    "
   ]
  },
  {
   "cell_type": "code",
   "execution_count": 7,
   "id": "fc9ecba8",
   "metadata": {},
   "outputs": [
    {
     "name": "stdout",
     "output_type": "stream",
     "text": [
      "dict_keys(['name', 'school', 'level'])\n",
      "dict_values(['Dubem', 'UNIZIK', '100'])\n",
      "dict_items([('name', 'Dubem'), ('school', 'UNIZIK'), ('level', '100')])\n"
     ]
    }
   ],
   "source": [
    "my_dict = {'name':'Dubem','school':'UNIZIK','level':'100'}\n",
    "my_dict['name']\n",
    "my_dict.get('state')\n",
    "my_keys = my_dict.keys()\n",
    "my_values = my_dict.values()\n",
    "print(my_keys)\n",
    "print(my_values)\n",
    "print(my_dict.items())"
   ]
  },
  {
   "cell_type": "code",
   "execution_count": 18,
   "id": "1d95a86f",
   "metadata": {},
   "outputs": [
    {
     "name": "stdout",
     "output_type": "stream",
     "text": [
      "<zip object at 0x000001E83D0D4600>\n"
     ]
    }
   ],
   "source": [
    "x = [1,4,5,6,7,8,9]\n",
    "y = ['num1','num2','num3','num4','num5','num6','num7']\n",
    "z = ['UNIZIK','UNIUYO','UNN','UNIPORT','UNIABUJA','UNIKATSINA','UNIAGRIC']\n",
    "zip_ = zip(z,y,x)\n",
    "print(zip_)"
   ]
  },
  {
   "cell_type": "code",
   "execution_count": 11,
   "id": "455266b6",
   "metadata": {},
   "outputs": [
    {
     "name": "stdout",
     "output_type": "stream",
     "text": [
      "['0', '1', '2', '3', '4', '5', '6', '7', '8', '9']\n",
      "clean numerics: [20, 78, 67, 39, 45, 23, 45]\n",
      "Name-score dictionary: {'Mosh': 78, 'Anabel': 67, 'Cynthia': 39, 'Stanley': 45, 'Wood': 23, 'Joseph': 45}\n"
     ]
    }
   ],
   "source": [
    "#Data cleaning\n",
    "\n",
    "#Raw data from source\n",
    "students_names = ['John','Mosh','Anabel','Cynthia','Stanley','Wood','Joseph']\n",
    "scores = ['20bcv','78&*$','67:;,#@!','39gh{[]}\\n','45:''^&',':+=23!!','%@~-45']\n",
    "list_of_numbers = [str(num) for num in range(10)]\n",
    "clean_scores = []\n",
    "\n",
    "#Actual cleaning\n",
    "for item in scores:\n",
    "    clean_data = ''\n",
    "    for char in item:     \n",
    "        if char in list_of_numbers:\n",
    "            clean_data += char\n",
    "    clean_scores.append(clean_data)\n",
    "    \n",
    "#conversion of string data into int    \n",
    "clean_scores = [int(num) for num in clean_scores]\n",
    "print('clean numerics:',clean_scores)\n",
    "name_score = zip(students_names,clean_scores)\n",
    "\n",
    "#printing data as dict with names as keys\n",
    "for name,score in name_score:\n",
    "    print('Name-score dictionary:',dict(name_score))\n",
    "\n",
    "            "
   ]
  },
  {
   "cell_type": "code",
   "execution_count": 50,
   "id": "86ff2e8a",
   "metadata": {},
   "outputs": [
    {
     "name": "stdout",
     "output_type": "stream",
     "text": [
      "Prime numbers with comprehension: [2, 3, 5, 7, 11, 13, 17, 19]\n",
      "prime numbers without comprehension: [2, 3, 5, 7, 11, 13, 17, 19]\n"
     ]
    }
   ],
   "source": [
    "#List comprehension\n",
    "\n",
    "#generate prime numbers by list comprehension(2 lines of codes)\n",
    "prime = [num for num in range(2,20) if all( num % i !=0 for i in range(2,num)) ]\n",
    "print('Prime numbers with comprehension:',prime)\n",
    "\n",
    "#prime numbers without list comprehension(12 lines of codes)\n",
    "prime = []\n",
    "for num in numbers:\n",
    "    if num > 1:\n",
    "        if num == 2:\n",
    "            prime.append(num) \n",
    "        else:\n",
    "            for i in range(2,num):\n",
    "                if num % i == 0:\n",
    "                    break\n",
    "            else:\n",
    "                prime.append(num)\n",
    "print('prime numbers without comprehension:',prime)\n",
    "\n"
   ]
  },
  {
   "cell_type": "code",
   "execution_count": 1,
   "id": "5ca23b0d",
   "metadata": {},
   "outputs": [
    {
     "name": "stdout",
     "output_type": "stream",
     "text": [
      "6\n"
     ]
    }
   ],
   "source": [
    "#Print numbers that occured different number of times by variable swap\n",
    "\n",
    "numbers = [1,2,3,4,3,1,2,6,4,9,9,8,8]\n",
    "list1 = []\n",
    "list2 = []\n",
    "list1.append(numbers[0]) #item initialization\n",
    "\n",
    "#Numbers with same count share same list\n",
    "for num in numbers:\n",
    "    count_num = numbers.count(num)\n",
    "    if count_num == numbers.count(numbers[0]):\n",
    "        list1.append(num)\n",
    "    else:\n",
    "        list2.append(num)\n",
    "\n",
    "#Converting lists into sets to clear duplicates\n",
    "set1 = set(list1)\n",
    "set2 = set(list2)\n",
    "\n",
    "#Checking lists with one element only and printing its value\n",
    "if len(set1) > len(set2):\n",
    "    for i in set2:\n",
    "        print(i)\n",
    "elif len(set1)< len(set2):\n",
    "    for i in set1:\n",
    "        print(i)\n",
    "    \n"
   ]
  },
  {
   "cell_type": "code",
   "execution_count": 1,
   "id": "271777b0",
   "metadata": {},
   "outputs": [
    {
     "name": "stdout",
     "output_type": "stream",
     "text": [
      "{'NOW until3:00am Sat': 'High Surf Advisory', 'Today': 'ChanceShowers andBreezy', 'Tonight': 'Mostly Clearand Breezythen MostlyClear', 'Saturday': 'Mostly Sunnythen Sunnyand Breezy', 'SaturdayNight': 'Mostly Clear', 'Sunday': 'Sunny', 'SundayNight': 'Mostly Clear', 'Monday': 'Mostly Sunny', 'MondayNight': 'Partly Cloudy'}\n"
     ]
    }
   ],
   "source": [
    "import requests\n",
    "from bs4 import BeautifulSoup\n",
    "\n",
    "url = 'https://forecast.weather.gov/MapClick.php?lat=37.777120000000025&lon=-122.41963999999996#.YmGKydPMLDc'\n",
    "my_doc = requests.get(url)\n",
    "soup = BeautifulSoup(my_doc.content,'html.parser')\n",
    "div_container1 = soup.find(id = 'seven-day-forecast-body')\n",
    "div_container2 = div_container1.find_all(class_ = 'tombstone-container')\n",
    "\n",
    "#Empty list to accept data items \n",
    "list_of_days = []\n",
    "list_of_descriptions = []\n",
    "\n",
    "#Created to loop through \n",
    "for items in div_container2:\n",
    "    period_name = items.find(class_ = 'period-name')\n",
    "    day = period_name.get_text()\n",
    "    list_of_days.append(day)\n",
    "    short_desc = items.find(class_ = 'short-desc')\n",
    "    description = short_desc.get_text()\n",
    "    list_of_descriptions.append(description)\n",
    "\n",
    "convenient_list = zip(list_of_days,list_of_descriptions)\n",
    "print(dict(convenient_list))"
   ]
  },
  {
   "cell_type": "code",
   "execution_count": 1,
   "id": "2bdeba85",
   "metadata": {},
   "outputs": [
    {
     "name": "stdout",
     "output_type": "stream",
     "text": [
      "A18AA is 61866. Hence, A is 6.\n"
     ]
    }
   ],
   "source": [
    "#Loop through all numbers in the range given\n",
    "for number in range(10000,99999):\n",
    "\n",
    "#Check if number is divisible by 18\n",
    "    if number % 18 == 0:\n",
    "\n",
    "#Convert number from integer type into string type\n",
    "        str_type = str(number)\n",
    "\n",
    "#Check the conditions given\n",
    "        if str_type[0] == str_type[3] and str_type[0] == str_type[4]:\n",
    "            if str_type[1] == str(1 )and str_type[2] == str(8):\n",
    "\n",
    "#Print value\n",
    "                print(f'A18AA is {str_type}. Hence, A is {str_type[0]}.')\n",
    "    "
   ]
  },
  {
   "cell_type": "code",
   "execution_count": 2,
   "id": "897c14e7",
   "metadata": {},
   "outputs": [
    {
     "data": {
      "text/plain": [
       "['ConnectTimeout',\n",
       " 'ConnectionError',\n",
       " 'DependencyWarning',\n",
       " 'FileModeWarning',\n",
       " 'HTTPError',\n",
       " 'NullHandler',\n",
       " 'PreparedRequest',\n",
       " 'ReadTimeout',\n",
       " 'Request',\n",
       " 'RequestException',\n",
       " 'RequestsDependencyWarning',\n",
       " 'Response',\n",
       " 'Session',\n",
       " 'Timeout',\n",
       " 'TooManyRedirects',\n",
       " 'URLRequired',\n",
       " '__author__',\n",
       " '__author_email__',\n",
       " '__build__',\n",
       " '__builtins__',\n",
       " '__cached__',\n",
       " '__cake__',\n",
       " '__copyright__',\n",
       " '__description__',\n",
       " '__doc__',\n",
       " '__file__',\n",
       " '__license__',\n",
       " '__loader__',\n",
       " '__name__',\n",
       " '__package__',\n",
       " '__path__',\n",
       " '__spec__',\n",
       " '__title__',\n",
       " '__url__',\n",
       " '__version__',\n",
       " '_check_cryptography',\n",
       " '_internal_utils',\n",
       " 'adapters',\n",
       " 'api',\n",
       " 'auth',\n",
       " 'certs',\n",
       " 'chardet_version',\n",
       " 'charset_normalizer_version',\n",
       " 'check_compatibility',\n",
       " 'codes',\n",
       " 'compat',\n",
       " 'cookies',\n",
       " 'delete',\n",
       " 'exceptions',\n",
       " 'get',\n",
       " 'head',\n",
       " 'hooks',\n",
       " 'logging',\n",
       " 'models',\n",
       " 'options',\n",
       " 'packages',\n",
       " 'patch',\n",
       " 'post',\n",
       " 'put',\n",
       " 'request',\n",
       " 'session',\n",
       " 'sessions',\n",
       " 'ssl',\n",
       " 'status_codes',\n",
       " 'structures',\n",
       " 'urllib3',\n",
       " 'utils',\n",
       " 'warnings']"
      ]
     },
     "execution_count": 2,
     "metadata": {},
     "output_type": "execute_result"
    }
   ],
   "source": [
    "import requests\n",
    "dir(requests)"
   ]
  }
 ],
 "metadata": {
  "kernelspec": {
   "display_name": "Python 3 (ipykernel)",
   "language": "python",
   "name": "python3"
  },
  "language_info": {
   "codemirror_mode": {
    "name": "ipython",
    "version": 3
   },
   "file_extension": ".py",
   "mimetype": "text/x-python",
   "name": "python",
   "nbconvert_exporter": "python",
   "pygments_lexer": "ipython3",
   "version": "3.9.7"
  }
 },
 "nbformat": 4,
 "nbformat_minor": 5
}
